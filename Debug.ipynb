{
 "cells": [
  {
   "cell_type": "code",
   "execution_count": 1,
   "metadata": {},
   "outputs": [],
   "source": [
    "# import necessary libraries\n",
    "import pyspark\n",
    "import numpy as np\n",
    "import pandas as pd\n",
    "from pyspark.sql import SparkSession"
   ]
  },
  {
   "cell_type": "code",
   "execution_count": 2,
   "metadata": {},
   "outputs": [],
   "source": [
    "# instantiate SparkSession object\n",
    "spark = SparkSession\\\n",
    "        .builder\\\n",
    "        .appName(\"ALSExample\").config(\"spark.driver.host\",\"localhost\")\\\n",
    "        .getOrCreate()"
   ]
  },
  {
   "cell_type": "code",
   "execution_count": 3,
   "metadata": {},
   "outputs": [],
   "source": [
    "# read in the dataset into pyspark DataFrame\n",
    "movie_ratings = spark.read.csv(\"./data/ratings.csv\",header = 'true' , inferSchema = 'true')"
   ]
  },
  {
   "cell_type": "markdown",
   "metadata": {},
   "source": [
    "We aren't going to need the time stamp, so we can go ahead and remove that column."
   ]
  },
  {
   "cell_type": "code",
   "execution_count": 4,
   "metadata": {},
   "outputs": [],
   "source": [
    "movie_ratings = movie_ratings.drop(\"timestamp\")"
   ]
  },
  {
   "cell_type": "code",
   "execution_count": 5,
   "metadata": {},
   "outputs": [
    {
     "data": {
      "text/plain": [
       "Row(userId=1, movieId=1, rating=4.0)"
      ]
     },
     "execution_count": 5,
     "metadata": {},
     "output_type": "execute_result"
    }
   ],
   "source": [
    "movie_ratings.head()"
   ]
  },
  {
   "cell_type": "code",
   "execution_count": 6,
   "metadata": {},
   "outputs": [
    {
     "name": "stdout",
     "output_type": "stream",
     "text": [
      "80796 20040\n"
     ]
    }
   ],
   "source": [
    "from pyspark.ml.evaluation import RegressionEvaluator\n",
    "from pyspark.ml.recommendation import ALS\n",
    "# split into training and testing sets\n",
    "(train, test) = movie_ratings.randomSplit((0.8,0.2),42 )\n",
    "print(train.count(), test.count())\n",
    "\n",
    "# Build the recommendation model using ALS on the training data\n",
    "# Note we set cold start strategy to 'drop' to ensure we don't get NaN evaluation metrics\n",
    "als = ALS(maxIter = 5, \n",
    "          rank = 10, \n",
    "          userCol = 'userId', \n",
    "          itemCol = 'movieId', \n",
    "          ratingCol = 'rating', \n",
    "          seed = 42,\n",
    "          coldStartStrategy = 'drop',\n",
    "          regParam = 0.01)\n",
    "# fit the ALS model to the training set\n",
    "model = als.fit(train)"
   ]
  },
  {
   "cell_type": "code",
   "execution_count": 7,
   "metadata": {},
   "outputs": [],
   "source": [
    "movie_titles = spark.read.csv('./data/movies.csv', header = True)"
   ]
  },
  {
   "cell_type": "code",
   "execution_count": 8,
   "metadata": {},
   "outputs": [],
   "source": [
    "def name_retriever(movie_id,movie_title_df):\n",
    "    title = movie_title_df.filter(f\"movieId == {movie_id}\").collect()[0][1]\n",
    "    return title"
   ]
  },
  {
   "cell_type": "code",
   "execution_count": 9,
   "metadata": {},
   "outputs": [],
   "source": [
    "def new_user_recs(user_id,new_ratings,rating_df,movie_title_df,num_recs):\n",
    "    # turn the new_recommendations list into a spark DataFrame\n",
    "    new_rates = spark.createDataFrame(new_ratings)\n",
    "    # combine the new ratings df with the rating_df\n",
    "    rating_df = rating_df.union(new_rates)\n",
    "    \n",
    "    # create an ALS model and fit it\n",
    "    als = ALS(maxIter = 5,  \n",
    "                userCol = 'userId', \n",
    "                itemCol = 'movieId', \n",
    "                ratingCol = 'rating', \n",
    "                seed = 42,\n",
    "                coldStartStrategy = 'drop',\n",
    "                rank = 50,\n",
    "                regParam = 0.01)\n",
    "    model = als.fit(rating_df)\n",
    "    # make recommendations for all users using the recommendForAllUsers method\n",
    "    recommendations = model.recommendForAllUsers(num_recs)\n",
    "    user_recommends = recommendations.filter(recommendations.userId == user_id)\n",
    "    recs_list = user_recommends.collect()[0]['recommendations']\n",
    "    # get recommendations specifically for the new user that has been added to the DataFrame\n",
    "    out_list = [name_retriever(row[0],movie_title_df) for row in recs_list]\n",
    "    print(\"\\n\".join(out_list))\n",
    "    return out_list\n",
    "        "
   ]
  },
  {
   "cell_type": "code",
   "execution_count": 10,
   "metadata": {},
   "outputs": [],
   "source": [
    "def movie_rater(movie_titles,num, genre=None, userId = 1000):\n",
    "    if genre == None:\n",
    "        genre = \"\"\n",
    "    pool = movie_titles.filter(f\"genres like '%{genre.title()}%'\").toPandas()\n",
    "    selection = pool.sample(num).reset_index(drop = True)\n",
    "    ratings =[]\n",
    "    i = 0\n",
    "    while i <= max(selection.index):\n",
    "        movie = selection.loc[i,:]\n",
    "        print(\"\")\n",
    "        print(movie)\n",
    "        rating = input(\"How do you rate this movie on a scale of 1-5, press n if you have not seen:\")\n",
    "        if rating.lower() == \"n\":\n",
    "            selection = selection.append(pool.query(\"movieId not in @selection.movieId\").sample(1), ignore_index = True)\n",
    "        elif float(rating)<=5:\n",
    "            ratings.append((int(userId),int(movie.movieId),float(rating)))\n",
    "            #ratings.append({\"userId\" : userId,\n",
    "            #                \"movieId\": movie.movieId,\n",
    "            #                \"rating\":float(rating)})\n",
    "        else:\n",
    "            print(\"---------\")\n",
    "            print(\"Input incorrect, please try again\")\n",
    "            print(\"---------\")\n",
    "            i -=1\n",
    "        i += 1\n",
    "    return ratings"
   ]
  },
  {
   "cell_type": "code",
   "execution_count": 11,
   "metadata": {},
   "outputs": [
    {
     "name": "stdout",
     "output_type": "stream",
     "text": [
      "\n",
      "movieId                   773\n",
      "title      Touki Bouki (1973)\n",
      "genres                  Drama\n",
      "Name: 0, dtype: object\n",
      "How do you rate this movie on a scale of 1-5, press n if you have not seen:2\n",
      "\n",
      "movieId                  4617\n",
      "title      Let It Ride (1989)\n",
      "genres                 Comedy\n",
      "Name: 1, dtype: object\n",
      "How do you rate this movie on a scale of 1-5, press n if you have not seen:3\n",
      "\n",
      "movieId        179813\n",
      "title      LBJ (2017)\n",
      "genres          Drama\n",
      "Name: 2, dtype: object\n",
      "How do you rate this movie on a scale of 1-5, press n if you have not seen:4\n",
      "\n",
      "movieId                    6850\n",
      "title      Leap of Faith (1992)\n",
      "genres             Comedy|Drama\n",
      "Name: 3, dtype: object\n",
      "How do you rate this movie on a scale of 1-5, press n if you have not seen:54\n",
      "---------\n",
      "Input incorrect, please try again\n",
      "---------\n",
      "\n",
      "movieId                    6850\n",
      "title      Leap of Faith (1992)\n",
      "genres             Comedy|Drama\n",
      "Name: 3, dtype: object\n",
      "How do you rate this movie on a scale of 1-5, press n if you have not seen:4\n",
      "\n",
      "movieId                     5951\n",
      "title      Morvern Callar (2002)\n",
      "genres                     Drama\n",
      "Name: 4, dtype: object\n",
      "How do you rate this movie on a scale of 1-5, press n if you have not seen:5\n",
      "Morvern Callar (2002)\n",
      "Blood Simple (1984)\n",
      "Maltese Falcon, The (1941)\n",
      "Vertigo (1958)\n",
      "Short Cuts (1993)\n",
      "eXistenZ (1999)\n",
      "Hustler, The (1961)\n",
      "LBJ (2017)\n",
      "Leap of Faith (1992)\n",
      "Citizen Kane (1941)\n"
     ]
    },
    {
     "data": {
      "text/plain": [
       "['Morvern Callar (2002)',\n",
       " 'Blood Simple (1984)',\n",
       " 'Maltese Falcon, The (1941)',\n",
       " 'Vertigo (1958)',\n",
       " 'Short Cuts (1993)',\n",
       " 'eXistenZ (1999)',\n",
       " 'Hustler, The (1961)',\n",
       " 'LBJ (2017)',\n",
       " 'Leap of Faith (1992)',\n",
       " 'Citizen Kane (1941)']"
      ]
     },
     "execution_count": 11,
     "metadata": {},
     "output_type": "execute_result"
    }
   ],
   "source": [
    "user_id = 100000\n",
    "user_ratings_1 = movie_rater(movie_titles,\n",
    "                             num = 5,\n",
    "                             userId = user_id)\n",
    "new_user_recs(user_id,\n",
    "             new_ratings=user_ratings_1,\n",
    "             rating_df=movie_ratings,\n",
    "             movie_title_df=movie_titles,\n",
    "             num_recs = 10)"
   ]
  },
  {
   "cell_type": "code",
   "execution_count": null,
   "metadata": {},
   "outputs": [],
   "source": []
  }
 ],
 "metadata": {
  "kernelspec": {
   "display_name": "Python 3",
   "language": "python",
   "name": "python3"
  },
  "language_info": {
   "codemirror_mode": {
    "name": "ipython",
    "version": 3
   },
   "file_extension": ".py",
   "mimetype": "text/x-python",
   "name": "python",
   "nbconvert_exporter": "python",
   "pygments_lexer": "ipython3",
   "version": "3.7.3"
  }
 },
 "nbformat": 4,
 "nbformat_minor": 2
}
